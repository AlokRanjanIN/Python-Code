{
 "cells": [
  {
   "cell_type": "markdown",
   "id": "0c8bc2df",
   "metadata": {},
   "source": [
    "#                            BMI Calculator"
   ]
  },
  {
   "cell_type": "code",
   "execution_count": null,
   "id": "2deb2ac0",
   "metadata": {},
   "outputs": [],
   "source": [
    "name=input('Enter your name : ')\n",
    "try:\n",
    "    weight=float(input('Enter your weight in kilograms: '))\n",
    "    height=float(input('Enter your height in inches: '))\n",
    "    BMI= float(('%.2f'%((weight)/((height*2.54/100)**2))))\n",
    "    print('\\nBMI:',BMI)\n",
    "\n",
    "    if BMI>0:\n",
    "        if BMI <18.5:\n",
    "            print(name,':','You are Underweight')\n",
    "        elif BMI <=24.9:\n",
    "            print(name,':','You are at a healthy weight')\n",
    "        elif BMI <=29.9:\n",
    "            print(name,':','You are Overweight')\n",
    "        elif BMI >29.9:\n",
    "            print(name,':','You have obesity')\n",
    "    else:\n",
    "        print('Enter valid input')\n",
    "except ValueError:\n",
    "    print('\\nWarning: Enter weight and height in \\033[1mNumerical Format')"
   ]
  }
 ],
 "metadata": {
  "kernelspec": {
   "display_name": "Python 3 (ipykernel)",
   "language": "python",
   "name": "python3"
  },
  "language_info": {
   "codemirror_mode": {
    "name": "ipython",
    "version": 3
   },
   "file_extension": ".py",
   "mimetype": "text/x-python",
   "name": "python",
   "nbconvert_exporter": "python",
   "pygments_lexer": "ipython3",
   "version": "3.10.9"
  }
 },
 "nbformat": 4,
 "nbformat_minor": 5
}
